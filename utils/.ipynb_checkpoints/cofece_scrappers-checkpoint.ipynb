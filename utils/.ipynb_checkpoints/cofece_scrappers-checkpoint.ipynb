{
 "cells": [
  {
   "cell_type": "code",
   "execution_count": 1,
   "metadata": {},
   "outputs": [
    {
     "ename": "ImportError",
     "evalue": "No module named selenium",
     "output_type": "error",
     "traceback": [
      "\u001b[0;31m---------------------------------------------------------------------------\u001b[0m",
      "\u001b[0;31mImportError\u001b[0m                               Traceback (most recent call last)",
      "\u001b[0;32m<ipython-input-1-fa46366c4685>\u001b[0m in \u001b[0;36m<module>\u001b[0;34m()\u001b[0m\n\u001b[1;32m      3\u001b[0m \u001b[0;31m# Depending on page\u001b[0m\u001b[0;34m\u001b[0m\u001b[0;34m\u001b[0m\u001b[0m\n\u001b[1;32m      4\u001b[0m \u001b[0;32mimport\u001b[0m \u001b[0mrequests\u001b[0m\u001b[0;34m\u001b[0m\u001b[0m\n\u001b[0;32m----> 5\u001b[0;31m \u001b[0;32mfrom\u001b[0m \u001b[0mselenium\u001b[0m \u001b[0;32mimport\u001b[0m \u001b[0mwebdriver\u001b[0m\u001b[0;34m\u001b[0m\u001b[0m\n\u001b[0m\u001b[1;32m      6\u001b[0m \u001b[0;32mimport\u001b[0m \u001b[0mtime\u001b[0m\u001b[0;34m\u001b[0m\u001b[0m\n",
      "\u001b[0;31mImportError\u001b[0m: No module named selenium"
     ]
    }
   ],
   "source": [
    "from lxml import html\n",
    "# Depending on page\n",
    "import requests\n",
    "from selenium import webdriver\n",
    "import time\n"
   ]
  },
  {
   "cell_type": "code",
   "execution_count": 126,
   "metadata": {
    "collapsed": true
   },
   "outputs": [],
   "source": [
    "\n",
    "class Base:\n",
    "    \"\"\"\n",
    "    General class for bus lines scrappers.\n",
    "    Receives html pointers for:\n",
    "    origin, destination, departure, arrival, type of the service,\n",
    "    enterprise, price of the service.\n",
    "    \"\"\"\n",
    "    def __init__(self):\n",
    "        self.headers = {'User-Agent': 'Mozilla/5.0 (X11; Linux x86_64) AppleWebKit/537.36 (KHTML, like Gecko) Chrome/42.0.2311.90 Safari/537.36'}\n",
    "        self.xpath_origin = 'definir'\n",
    "        self.xpath_destination = 'definir'\n",
    "        self.xpath_departure = 'definir'\n",
    "        self.xpath_arrival = 'definir'\n",
    "        self.xpath_enterprise = 'definir'\n",
    "        self.xpath_type_service = 'definir'\n",
    "        self.xpath_sale_price = 'definir'\n",
    "\n",
    "    def origen_destino(self):\n",
    "        \"\"\"\n",
    "        Retrieving origin and destination.\n",
    "        :self.xpath_destination: html pointer for origin.\n",
    "        :self.xpath_destination: html pointer for destination.\n",
    "        return: origin, destination.\n",
    "        \"\"\"\n",
    "        origin = self.html.xpath(self.xpath_origin)\n",
    "        destination = self.html.xpath(self.xpath_destination)\n",
    "        origen = map(self.limpieza_texto, origin)\n",
    "        destino = map(self.limpieza_texto, destination)\n",
    "        return origen, destino\n",
    "    \n",
    "    def salida_llegada(self):\n",
    "        \"\"\"\n",
    "        Retrieving departure and arrival.\n",
    "        :self.xpath_departure: html pointer for deptarture.\n",
    "        :self.xpath_arrival: html pointer for arrival.\n",
    "        return: departure, arrival.\n",
    "        \"\"\"\n",
    "        departure = self.html.xpath(self.xpath_departure)\n",
    "        arrival = self.html.xpath(self.xpath_arrival)\n",
    "        salida = map(self.limpieza_texto, departure)\n",
    "        llegada = map(self.limpieza_texto, arrival)\n",
    "        return salida, llegada\n",
    "    \n",
    "    def tipo_servicio(self):\n",
    "        \"\"\"\n",
    "        Retrieving type of service.\n",
    "        :self.xpath_name: html pointer for type of service.\n",
    "        return: type.\n",
    "        \"\"\"\n",
    "        type_service = self.html.xpath(self.xpath_type_service)\n",
    "        tipo_servicio = map(self.limpieza_texto, type_service)\n",
    "        return tipo_servicio\n",
    "\n",
    "    def empresa(self):\n",
    "        \"\"\"\n",
    "        Retrieving enterprise.\n",
    "        :self.xpath_enterprise: html pointer for enterprise.\n",
    "        return: enterprise.\n",
    "        \"\"\"\n",
    "        enterprise = self.html.xpath(self.xpath_enterprise)\n",
    "        empresa = map(self.limpieza_texto, enterprise)\n",
    "        return empresa\n",
    "    \n",
    "    def precio(self):\n",
    "        \"\"\"\n",
    "        Retrieving price of service.\n",
    "        :self.xpath_sale_price: html pointer for price.\n",
    "        return: clean price.\n",
    "        \"\"\"\n",
    "        price = self.html.xpath(self.xpath_sale_price)\n",
    "        precio = map(self.limpieza_precio, price)\n",
    "        return precio\n",
    "    \n",
    "    def limpieza_texto(self,strin):\n",
    "        strin2 = ' '.join(strin.split())\n",
    "        return strin2\n",
    "        \n",
    "    def limpieza_precio(self,strin):\n",
    "        strin = ' '.join(strin.split())\n",
    "        strin = strin.replace(\"$\", \"\")\n",
    "        strin = strin.replace(\"MXN\", \"\")\n",
    "        strin = strin.replace(\",\", \"\")\n",
    "        return strin\n",
    "    \n",
    "    def wrap_info(self):\n",
    "        origen, destino = self.origen_destino()\n",
    "        salida, llegada = self.salida_llegada()\n",
    "        tipo = self.tipo_servicio()\n",
    "        empresa = self.empresa()\n",
    "        precio = self.precio()\n",
    "        info = [origen, destino, salida, llegada, tipo, empresa, precio]\n",
    "        return info\n"
   ]
  },
  {
   "cell_type": "code",
   "execution_count": 127,
   "metadata": {
    "collapsed": true
   },
   "outputs": [],
   "source": [
    "class Clickbus(Base):\n",
    "    def __init__(self, url):\n",
    "        Base.__init__(self)\n",
    "        self.store_id = 1\n",
    "        self.url = url\n",
    "        #self.page = requests.get(self.url, headers=self.headers)\n",
    "        #self.html = html.fromstring(self.page.content)\n",
    "        #self.driver = webdriver.PhantomJS()\n",
    "        self.driver = webdriver.Chrome()\n",
    "        self.driver.get(self.url)\n",
    "        time.sleep(15)\n",
    "        self.page = self.driver.page_source\n",
    "        self.driver.quit()\n",
    "        self.html = html.fromstring(self.page)\n",
    "        self.base = '//div[@class=\"trip-information\"]'\n",
    "        self.xpath_origin = self.base+'//div[@class=\"info-row station from ng-binding\"]//text()'\n",
    "        self.xpath_destination = self.base+'//div[@class=\"info-row station from ng-binding\"]//text()'\n",
    "        self.xpath_departure = self.base+'//div[@class=\"info-row schedule departure ng-binding\"]//text()'\n",
    "        self.xpath_arrival = self.base+'//div[@class=\"info-row schedule arrival ng-binding\"]//text()'\n",
    "        self.xpath_enterprise = self.base+'//div[@class=\"company info-container\"]//span[@class=\"hidden ng-binding\"]//text()'\n",
    "        self.xpath_type_service = '//div[@class=\"trip-services\"]//span[@class=\"service-class ng-binding\"]//text()'\n",
    "        self.xpath_sale_price = self.base+'//div[@class=\"normal-price\"]//span[@itemprop=\"price\"]//text()'\n"
   ]
  },
  {
   "cell_type": "code",
   "execution_count": 107,
   "metadata": {
    "collapsed": true
   },
   "outputs": [],
   "source": [
    "url = \"https://www.clickbus.com.mx/es/buscar/puebla-pue-todas-las-terminales/ciudad-de-mexico-df-%28todas-las-terminales%29/?isGroup=0&ida=2018-01-07&volta=#/step/departure\"\n",
    "scrapper = Clickbus(url)\n",
    "ver = scrapper.wrap_info()\n",
    "print(ver)"
   ]
  },
  {
   "cell_type": "code",
   "execution_count": null,
   "metadata": {
    "collapsed": true
   },
   "outputs": [],
   "source": []
  }
 ],
 "metadata": {
  "kernelspec": {
   "display_name": "Python 2",
   "language": "python",
   "name": "python2"
  },
  "language_info": {
   "codemirror_mode": {
    "name": "ipython",
    "version": 2
   },
   "file_extension": ".py",
   "mimetype": "text/x-python",
   "name": "python",
   "nbconvert_exporter": "python",
   "pygments_lexer": "ipython2",
   "version": "2.7.13"
  }
 },
 "nbformat": 4,
 "nbformat_minor": 2
}
